{
  "nbformat": 4,
  "nbformat_minor": 0,
  "metadata": {
    "colab": {
      "provenance": [],
      "mount_file_id": "1fvM2t06_xXEQtKeYTISwt3QjkSXuosU8",
      "authorship_tag": "ABX9TyM7iuBNIeyNz0PzKCOUAYEQ",
      "include_colab_link": true
    },
    "kernelspec": {
      "name": "python3",
      "display_name": "Python 3"
    },
    "language_info": {
      "name": "python"
    }
  },
  "cells": [
    {
      "cell_type": "markdown",
      "metadata": {
        "id": "view-in-github",
        "colab_type": "text"
      },
      "source": [
        "<a href=\"https://colab.research.google.com/github/fher2819/Proyecto-IA---Breast-Cancer-Detection/blob/main/Deteccion_CM.ipynb\" target=\"_parent\"><img src=\"https://colab.research.google.com/assets/colab-badge.svg\" alt=\"Open In Colab\"/></a>"
      ]
    },
    {
      "cell_type": "code",
      "metadata": {
        "colab": {
          "base_uri": "https://localhost:8080/"
        },
        "id": "1LGm0LcWoPRo",
        "outputId": "385288cb-417d-4aa4-9d53-8ce9ba19310f"
      },
      "source": [
        "from google.colab import drive\n",
        "drive.mount('/content/drive')"
      ],
      "execution_count": null,
      "outputs": [
        {
          "output_type": "stream",
          "name": "stdout",
          "text": [
            "Mounted at /content/drive\n"
          ]
        }
      ]
    },
    {
      "cell_type": "code",
      "source": [
        "import matplotlib.pyplot as plt\n",
        "import matplotlib.image as mpimg\n",
        "\n",
        "from keras.preprocessing.image import ImageDataGenerator\n",
        "from keras.models import Sequential\n",
        "from keras.layers import Conv2D, MaxPooling2D, BatchNormalization\n",
        "from keras.layers import Activation, Dropout, Flatten, Dense\n",
        "\n",
        "import os\n",
        "import cv2\n",
        "from PIL import Image\n",
        "import numpy as np"
      ],
      "metadata": {
        "id": "q-ypHKQ4n18c"
      },
      "execution_count": null,
      "outputs": []
    },
    {
      "cell_type": "code",
      "source": [
        "# Segmentation code\n",
        "\n",
        "import numpy as np\n",
        "import cv2\n",
        "import matplotlib.pyplot as plt\n",
        "\n",
        "def segement_images(image_8):\n",
        "  image_hsv = cv2.cvtColor(image_8, cv2.COLOR_BGR2HSV)   #Converting image to hsv format(hue, saturation and value)\n",
        "\n",
        "  #Defining range of black values in hsv format\n",
        "  lower_black = np.array([0, 0, 200]) \n",
        "  upper_black = np.array([100,105, 255]) \n",
        "\n",
        "  #Create a mask instance for the image using inRange attribute\n",
        "  mask = cv2.inRange(image_hsv, lower_black, upper_black)\n",
        "\n",
        "  #Applying the msk over image using bitwise_and\n",
        "  image_bgr_masked = cv2.bitwise_and(image_8, image_8, mask= mask)\n",
        "\n",
        "  #Conversion of image into RGB format\n",
        "  image_rgb = cv2.cvtColor(image_bgr_masked, cv2.COLOR_BGR2RGB)\n",
        "\n",
        "  return image_rgb"
      ],
      "metadata": {
        "id": "iLM8ilRDn6kM"
      },
      "execution_count": null,
      "outputs": []
    },
    {
      "cell_type": "code",
      "source": [
        "from google.colab.patches import cv2_imshow\n",
        "import numpy as np\n",
        "import cv2\n",
        "import matplotlib.pyplot as plt\n",
        "import array\n",
        "\n",
        "# Identify malignant images\n",
        "image_directory = '/content/drive/MyDrive/Colab Notebooks/dataset/mini-MIAS/all-mias/'\n",
        "arr =  ['mdb002.pgm','mdb004.pgm','mdb003.pgm','mdb001.pgm','mdb013.pgm','mdb014.pgm','mdb004.pgm','mdb023.pgm','mdb039.pgm','mdb037.pgm','mdb004.pgm','mdb028.pgm','mdb029.pgm','mdb030.pgm',\n",
        "'mdb050.pgm','mdb049.pgm','mdb054.pgm','mdb053.pgm','mdb068.pgm','mdb065.pgm','mdb067.pgm','mdb081.pgm','mdb004.pgm','mdb089.pgm','mdb090.pgm','mdb115.pgm','mdb106.pgm','mdb105.pgm','mdb108.pgm'\n",
        ",'mdb004.pgm','mdb110.pgm','mdb111.pgm','mdb112.pgm','mdb107.pgm','mdb109.pgm','mdb116.pgm','mdb121.pgm','mdb122.pgm','mdb125.pgm','mdb126.pgm','mdb124.pgm'\n",
        ",'mdb130.pgm'\n",
        ",'mdb138.pgm'\n",
        ",'mdb137.pgm'\n",
        ",'mdb152.pgm'\n",
        ",'mdb163.pgm'\n",
        ",'mdb164.pgm'\n",
        ",'mdb162.pgm'\n",
        ",'mdb171.pgm'\n",
        ",'mdb179.pgm'\n",
        ",'mdb178.pgm'\n",
        ",'mdb180.pgm'\n",
        ",'mdb172.pgm'\n",
        ",'mdb189.pgm'\n",
        ",'mdb184.pgm'\n",
        ",'mdb191.pgm'\n",
        ",'mdb197.pgm'\n",
        ",'mdb194.pgm'\n",
        ",'mdb193.pgm'\n",
        ",'mdb207.pgm'\n",
        ",'mdb208.pgm'\n",
        ",'mdb211.pgm'\n",
        ",'mdb221.pgm'\n",
        ",'mdb218.pgm'\n",
        ",'mdb217.pgm'\n",
        ",'mdb212.pgm'\n",
        ",'mdb222.pgm'\n",
        ",'mdb215.pgm'\n",
        ",'mdb216.pgm'\n",
        ",'mdb226.pgm'\n",
        ",'mdb239.pgm'\n",
        ",'mdb244.pgm'\n",
        ",'mdb236.pgm'\n",
        ",'mdb243.pgm'\n",
        ",'mdb241.pgm'\n",
        ",'mdb240.pgm'\n",
        ",'mdb249.pgm'\n",
        ",'mdb254.pgm'\n",
        ",'mdb253.pgm'\n",
        ",'mdb257.pgm'\n",
        ",'mdb258.pgm'\n",
        ",'mdb265.pgm'\n",
        ",'mdb259.pgm'\n",
        ",'mdb260.pgm'\n",
        ",'mdb262.pgm'\n",
        ",'mdb271.pgm'\n",
        ",'mdb282.pgm'\n",
        ",'mdb281.pgm'\n",
        ",'mdb279.pgm'\n",
        ",'mdb285.pgm'\n",
        ",'mdb283.pgm'\n",
        ",'mdb292.pgm'\n",
        ",'mdb290.pgm'\n",
        ",'mdb289.pgm'\n",
        ",'mdb295.pgm'\n",
        ",'mdb291.pgm'\n",
        ",'mdb287.pgm'\n",
        ",'mdb268.pgm'\n",
        ",'mdb296.pgm'\n",
        ",'mdb311.pgm'\n",
        ",'mdb317.pgm'\n",
        ",'mdb321.pgm'\n",
        ",'mdb316.pgm'\n",
        ",'mdb322.pgm'\n",
        ",'mdb318.pgm'\n",
        ",'mdb319.pgm'\n",
        ",'mdb320.pgm'\n",
        ",'mdb315.pgm']\n",
        "\n",
        "for i, image_name in enumerate(arr):\n",
        "  print(image_name) \n",
        "  image = cv2.imread(image_directory + image_name)\n",
        "  seg=segement_images(image)\n",
        "  cv2.imwrite(\"/content/drive/MyDrive/Colab Notebooks/dataset/mini-MIAS/data/malignant_cases/malign\"+str(i)+\".png\", seg)  "
      ],
      "metadata": {
        "colab": {
          "base_uri": "https://localhost:8080/"
        },
        "id": "AFZq7DdAuBb2",
        "outputId": "a1ba37fb-12d8-425c-c779-41846186da23"
      },
      "execution_count": null,
      "outputs": [
        {
          "output_type": "stream",
          "name": "stdout",
          "text": [
            "mdb002.pgm\n",
            "mdb004.pgm\n",
            "mdb003.pgm\n",
            "mdb001.pgm\n",
            "mdb013.pgm\n",
            "mdb014.pgm\n",
            "mdb004.pgm\n",
            "mdb023.pgm\n",
            "mdb039.pgm\n",
            "mdb037.pgm\n",
            "mdb004.pgm\n",
            "mdb028.pgm\n",
            "mdb029.pgm\n",
            "mdb030.pgm\n",
            "mdb050.pgm\n",
            "mdb049.pgm\n",
            "mdb054.pgm\n",
            "mdb053.pgm\n",
            "mdb068.pgm\n",
            "mdb065.pgm\n",
            "mdb067.pgm\n",
            "mdb081.pgm\n",
            "mdb004.pgm\n",
            "mdb089.pgm\n",
            "mdb090.pgm\n",
            "mdb115.pgm\n",
            "mdb106.pgm\n",
            "mdb105.pgm\n",
            "mdb108.pgm\n",
            "mdb004.pgm\n",
            "mdb110.pgm\n",
            "mdb111.pgm\n",
            "mdb112.pgm\n",
            "mdb107.pgm\n",
            "mdb109.pgm\n",
            "mdb116.pgm\n",
            "mdb121.pgm\n",
            "mdb122.pgm\n",
            "mdb125.pgm\n",
            "mdb126.pgm\n",
            "mdb124.pgm\n",
            "mdb130.pgm\n",
            "mdb138.pgm\n",
            "mdb137.pgm\n",
            "mdb152.pgm\n",
            "mdb163.pgm\n",
            "mdb164.pgm\n",
            "mdb162.pgm\n",
            "mdb171.pgm\n",
            "mdb179.pgm\n",
            "mdb178.pgm\n",
            "mdb180.pgm\n",
            "mdb172.pgm\n",
            "mdb189.pgm\n",
            "mdb184.pgm\n",
            "mdb191.pgm\n",
            "mdb197.pgm\n",
            "mdb194.pgm\n",
            "mdb193.pgm\n",
            "mdb207.pgm\n",
            "mdb208.pgm\n",
            "mdb211.pgm\n",
            "mdb221.pgm\n",
            "mdb218.pgm\n",
            "mdb217.pgm\n",
            "mdb212.pgm\n",
            "mdb222.pgm\n",
            "mdb215.pgm\n",
            "mdb216.pgm\n",
            "mdb226.pgm\n",
            "mdb239.pgm\n",
            "mdb244.pgm\n",
            "mdb236.pgm\n",
            "mdb243.pgm\n",
            "mdb241.pgm\n",
            "mdb240.pgm\n",
            "mdb249.pgm\n",
            "mdb254.pgm\n",
            "mdb253.pgm\n",
            "mdb257.pgm\n",
            "mdb258.pgm\n",
            "mdb265.pgm\n",
            "mdb259.pgm\n",
            "mdb260.pgm\n",
            "mdb262.pgm\n",
            "mdb271.pgm\n",
            "mdb282.pgm\n",
            "mdb281.pgm\n",
            "mdb279.pgm\n",
            "mdb285.pgm\n",
            "mdb283.pgm\n",
            "mdb292.pgm\n",
            "mdb290.pgm\n",
            "mdb289.pgm\n",
            "mdb295.pgm\n",
            "mdb291.pgm\n",
            "mdb287.pgm\n",
            "mdb268.pgm\n",
            "mdb296.pgm\n",
            "mdb311.pgm\n",
            "mdb317.pgm\n",
            "mdb321.pgm\n",
            "mdb316.pgm\n",
            "mdb322.pgm\n",
            "mdb318.pgm\n",
            "mdb319.pgm\n",
            "mdb320.pgm\n",
            "mdb315.pgm\n"
          ]
        }
      ]
    },
    {
      "cell_type": "code",
      "source": [
        "# Categories images\n",
        "import os\n",
        "import cv2\n",
        "import pandas as pd\n",
        "\n",
        "KEY_LABEL = 3\n",
        "df = pd.read_csv(\"/content/drive/MyDrive/Colab Notebooks/dataset/data_description.csv\", header=None, index_col=0)\n",
        "df[KEY_LABEL].fillna('N', inplace=True)  # Empty values correspond to normal cases ('M'=malignant, 'B'=benign).\n",
        "df[3].str.strip()  # Strip leading and trailing spaces in label column.\n",
        "\n",
        "for img_pgm in os.listdir(\"/content/drive/MyDrive/Colab Notebooks/dataset/mini-MIAS/all-mias\"):\n",
        "    if img_pgm.endswith(\".pgm\"):\n",
        "        img = cv2.imread(\"/content/drive/MyDrive/Colab Notebooks/dataset/mini-MIAS/all-mias/{}\".format(img_pgm))\n",
        "        img_name = img_pgm.split(\".\")[0]\n",
        "        label = df.loc[img_name].loc[3]\n",
        "        if label == 'N':\n",
        "            new_path = \"/content/drive/MyDrive/Colab Notebooks/dataset/mini-MIAS/data/benign_cases/{}.png\".format(img_name)\n",
        "        elif label == 'B ':\n",
        "            new_path = \"/content/drive/MyDrive/Colab Notebooks/dataset/mini-MIAS/data/benign_cases/{}.png\".format(img_name)\n",
        "        cv2.imwrite(new_path, img)\n",
        "        print(\"Converted {} from PGM to PNG ({} case).\".format(img_pgm, label))\n",
        "print(\"Finished converting and sorting dataset.\")    "
      ],
      "metadata": {
        "colab": {
          "base_uri": "https://localhost:8080/"
        },
        "id": "BkJEalhytWd8",
        "outputId": "9b3b35b3-1a10-48c6-a63c-b5e0e61455bc"
      },
      "execution_count": null,
      "outputs": [
        {
          "output_type": "stream",
          "name": "stdout",
          "text": [
            "Converted mdb008.pgm from PGM to PNG (N case).\n",
            "Converted mdb002.pgm from PGM to PNG (B case).\n",
            "Converted mdb003.pgm from PGM to PNG (N case).\n",
            "Converted mdb001.pgm from PGM to PNG (B case).\n",
            "Converted mdb007.pgm from PGM to PNG (N case).\n",
            "Converted mdb010.pgm from PGM to PNG (B case).\n",
            "Converted mdb009.pgm from PGM to PNG (N case).\n",
            "Converted mdb005.pgm from PGM to PNG (B case).\n",
            "Converted mdb006.pgm from PGM to PNG (N case).\n",
            "Converted mdb004.pgm from PGM to PNG (N case).\n",
            "Converted mdb012.pgm from PGM to PNG (B case).\n",
            "Converted mdb014.pgm from PGM to PNG (N case).\n",
            "Converted mdb015.pgm from PGM to PNG (B case).\n",
            "Converted mdb013.pgm from PGM to PNG (B case).\n",
            "Converted mdb017.pgm from PGM to PNG (B case).\n",
            "Converted mdb016.pgm from PGM to PNG (N case).\n",
            "Converted mdb011.pgm from PGM to PNG (N case).\n",
            "Converted mdb021.pgm from PGM to PNG (B case).\n",
            "Converted mdb018.pgm from PGM to PNG (N case).\n",
            "Converted mdb023.pgm from PGM to PNG (M case).\n",
            "Converted mdb019.pgm from PGM to PNG (B case).\n",
            "Converted mdb025.pgm from PGM to PNG (B case).\n",
            "Converted mdb024.pgm from PGM to PNG (N case).\n",
            "Converted mdb022.pgm from PGM to PNG (N case).\n",
            "Converted mdb020.pgm from PGM to PNG (N case).\n",
            "Converted mdb026.pgm from PGM to PNG (N case).\n",
            "Converted mdb027.pgm from PGM to PNG (N case).\n",
            "Converted mdb035.pgm from PGM to PNG (N case).\n",
            "Converted mdb031.pgm from PGM to PNG (N case).\n",
            "Converted mdb030.pgm from PGM to PNG (B case).\n",
            "Converted mdb038.pgm from PGM to PNG (N case).\n",
            "Converted mdb036.pgm from PGM to PNG (N case).\n",
            "Converted mdb029.pgm from PGM to PNG (N case).\n",
            "Converted mdb028.pgm from PGM to PNG (M case).\n",
            "Converted mdb033.pgm from PGM to PNG (N case).\n",
            "Converted mdb034.pgm from PGM to PNG (N case).\n",
            "Converted mdb037.pgm from PGM to PNG (N case).\n",
            "Converted mdb039.pgm from PGM to PNG (N case).\n",
            "Converted mdb032.pgm from PGM to PNG (B case).\n",
            "Converted mdb051.pgm from PGM to PNG (N case).\n",
            "Converted mdb044.pgm from PGM to PNG (N case).\n",
            "Converted mdb047.pgm from PGM to PNG (N case).\n",
            "Converted mdb041.pgm from PGM to PNG (N case).\n",
            "Converted mdb049.pgm from PGM to PNG (N case).\n",
            "Converted mdb045.pgm from PGM to PNG (N case).\n",
            "Converted mdb040.pgm from PGM to PNG (N case).\n",
            "Converted mdb048.pgm from PGM to PNG (N case).\n",
            "Converted mdb043.pgm from PGM to PNG (N case).\n",
            "Converted mdb050.pgm from PGM to PNG (N case).\n",
            "Converted mdb042.pgm from PGM to PNG (N case).\n",
            "Converted mdb046.pgm from PGM to PNG (N case).\n",
            "Converted mdb055.pgm from PGM to PNG (N case).\n",
            "Converted mdb056.pgm from PGM to PNG (N case).\n",
            "Converted mdb057.pgm from PGM to PNG (N case).\n",
            "Converted mdb060.pgm from PGM to PNG (N case).\n",
            "Converted mdb058.pgm from PGM to PNG (M case).\n",
            "Converted mdb059.pgm from PGM to PNG (B case).\n",
            "Converted mdb054.pgm from PGM to PNG (N case).\n",
            "Converted mdb052.pgm from PGM to PNG (N case).\n",
            "Converted mdb053.pgm from PGM to PNG (N case).\n",
            "Converted mdb061.pgm from PGM to PNG (N case).\n",
            "Converted mdb062.pgm from PGM to PNG (N case).\n",
            "Converted mdb064.pgm from PGM to PNG (N case).\n",
            "Converted mdb063.pgm from PGM to PNG (B case).\n",
            "Converted mdb070.pgm from PGM to PNG (N case).\n",
            "Converted mdb071.pgm from PGM to PNG (N case).\n",
            "Converted mdb073.pgm from PGM to PNG (N case).\n",
            "Converted mdb072.pgm from PGM to PNG (M case).\n",
            "Converted mdb069.pgm from PGM to PNG (B case).\n",
            "Converted mdb067.pgm from PGM to PNG (N case).\n",
            "Converted mdb074.pgm from PGM to PNG (N case).\n",
            "Converted mdb065.pgm from PGM to PNG (N case).\n",
            "Converted mdb066.pgm from PGM to PNG (N case).\n",
            "Converted mdb068.pgm from PGM to PNG (N case).\n",
            "Converted mdb075.pgm from PGM to PNG (M case).\n",
            "Converted mdb078.pgm from PGM to PNG (N case).\n",
            "Converted mdb079.pgm from PGM to PNG (N case).\n",
            "Converted mdb082.pgm from PGM to PNG (N case).\n",
            "Converted mdb076.pgm from PGM to PNG (N case).\n",
            "Converted mdb081.pgm from PGM to PNG (B case).\n",
            "Converted mdb077.pgm from PGM to PNG (N case).\n",
            "Converted mdb080.pgm from PGM to PNG (B case).\n",
            "Converted mdb093.pgm from PGM to PNG (N case).\n",
            "Converted mdb091.pgm from PGM to PNG (B case).\n",
            "Converted mdb089.pgm from PGM to PNG (N case).\n",
            "Converted mdb083.pgm from PGM to PNG (B case).\n",
            "Converted mdb090.pgm from PGM to PNG (M case).\n",
            "Converted mdb094.pgm from PGM to PNG (N case).\n",
            "Converted mdb086.pgm from PGM to PNG (N case).\n",
            "Converted mdb085.pgm from PGM to PNG (N case).\n",
            "Converted mdb092.pgm from PGM to PNG (M case).\n",
            "Converted mdb088.pgm from PGM to PNG (N case).\n",
            "Converted mdb087.pgm from PGM to PNG (N case).\n",
            "Converted mdb084.pgm from PGM to PNG (N case).\n",
            "Converted mdb100.pgm from PGM to PNG (N case).\n",
            "Converted mdb096.pgm from PGM to PNG (N case).\n",
            "Converted mdb097.pgm from PGM to PNG (B case).\n",
            "Converted mdb095.pgm from PGM to PNG (M case).\n",
            "Converted mdb098.pgm from PGM to PNG (N case).\n",
            "Converted mdb101.pgm from PGM to PNG (N case).\n",
            "Converted mdb099.pgm from PGM to PNG (B case).\n",
            "Converted mdb102.pgm from PGM to PNG (M case).\n",
            "Converted mdb103.pgm from PGM to PNG (N case).\n",
            "Converted mdb105.pgm from PGM to PNG (M case).\n",
            "Converted mdb112.pgm from PGM to PNG (N case).\n",
            "Converted mdb109.pgm from PGM to PNG (N case).\n",
            "Converted mdb106.pgm from PGM to PNG (N case).\n",
            "Converted mdb107.pgm from PGM to PNG (B case).\n",
            "Converted mdb111.pgm from PGM to PNG (M case).\n",
            "Converted mdb113.pgm from PGM to PNG (N case).\n",
            "Converted mdb115.pgm from PGM to PNG (M case).\n",
            "Converted mdb110.pgm from PGM to PNG (M case).\n",
            "Converted mdb104.pgm from PGM to PNG (B case).\n",
            "Converted mdb114.pgm from PGM to PNG (N case).\n",
            "Converted mdb108.pgm from PGM to PNG (N case).\n",
            "Converted mdb117.pgm from PGM to PNG (M case).\n",
            "Converted mdb119.pgm from PGM to PNG (N case).\n",
            "Converted mdb118.pgm from PGM to PNG (N case).\n",
            "Converted mdb116.pgm from PGM to PNG (N case).\n",
            "Converted mdb120.pgm from PGM to PNG (M case).\n",
            "Converted mdb121.pgm from PGM to PNG (B case).\n",
            "Converted mdb122.pgm from PGM to PNG (N case).\n",
            "Converted mdb125.pgm from PGM to PNG (M case).\n",
            "Converted mdb129.pgm from PGM to PNG (N case).\n",
            "Converted mdb130.pgm from PGM to PNG (M case).\n",
            "Converted mdb128.pgm from PGM to PNG (N case).\n",
            "Converted mdb127.pgm from PGM to PNG (B case).\n",
            "Converted mdb126.pgm from PGM to PNG (B case).\n",
            "Converted mdb124.pgm from PGM to PNG (M case).\n",
            "Converted mdb131.pgm from PGM to PNG (N case).\n",
            "Converted mdb123.pgm from PGM to PNG (N case).\n",
            "Converted mdb140.pgm from PGM to PNG (N case).\n",
            "Converted mdb132.pgm from PGM to PNG (B case).\n",
            "Converted mdb136.pgm from PGM to PNG (N case).\n",
            "Converted mdb141.pgm from PGM to PNG (M case).\n",
            "Converted mdb139.pgm from PGM to PNG (N case).\n",
            "Converted mdb137.pgm from PGM to PNG (N case).\n",
            "Converted mdb142.pgm from PGM to PNG (B case).\n",
            "Converted mdb135.pgm from PGM to PNG (N case).\n",
            "Converted mdb138.pgm from PGM to PNG (N case).\n",
            "Converted mdb134.pgm from PGM to PNG (M case).\n",
            "Converted mdb133.pgm from PGM to PNG (N case).\n",
            "Converted mdb143.pgm from PGM to PNG (N case).\n",
            "Converted mdb146.pgm from PGM to PNG (N case).\n",
            "Converted mdb147.pgm from PGM to PNG (N case).\n",
            "Converted mdb144.pgm from PGM to PNG (B case).\n",
            "Converted mdb145.pgm from PGM to PNG (B case).\n",
            "Converted mdb152.pgm from PGM to PNG (B case).\n",
            "Converted mdb158.pgm from PGM to PNG (M case).\n",
            "Converted mdb151.pgm from PGM to PNG (N case).\n",
            "Converted mdb149.pgm from PGM to PNG (N case).\n",
            "Converted mdb155.pgm from PGM to PNG (M case).\n",
            "Converted mdb153.pgm from PGM to PNG (N case).\n",
            "Converted mdb150.pgm from PGM to PNG (B case).\n",
            "Converted mdb154.pgm from PGM to PNG (N case).\n",
            "Converted mdb156.pgm from PGM to PNG (N case).\n",
            "Converted mdb148.pgm from PGM to PNG (M case).\n",
            "Converted mdb157.pgm from PGM to PNG (N case).\n",
            "Converted mdb164.pgm from PGM to PNG (N case).\n",
            "Converted mdb166.pgm from PGM to PNG (N case).\n",
            "Converted mdb167.pgm from PGM to PNG (B case).\n",
            "Converted mdb169.pgm from PGM to PNG (N case).\n",
            "Converted mdb160.pgm from PGM to PNG (B case).\n",
            "Converted mdb168.pgm from PGM to PNG (N case).\n",
            "Converted mdb159.pgm from PGM to PNG (N case).\n",
            "Converted mdb162.pgm from PGM to PNG (N case).\n",
            "Converted mdb170.pgm from PGM to PNG (M case).\n",
            "Converted mdb161.pgm from PGM to PNG (N case).\n",
            "Converted mdb163.pgm from PGM to PNG (B case).\n",
            "Converted mdb165.pgm from PGM to PNG (B case).\n",
            "Converted mdb172.pgm from PGM to PNG (N case).\n",
            "Converted mdb173.pgm from PGM to PNG (N case).\n",
            "Converted mdb179.pgm from PGM to PNG (M case).\n",
            "Converted mdb174.pgm from PGM to PNG (N case).\n",
            "Converted mdb180.pgm from PGM to PNG (N case).\n",
            "Converted mdb175.pgm from PGM to PNG (B case).\n",
            "Converted mdb182.pgm from PGM to PNG (N case).\n",
            "Converted mdb178.pgm from PGM to PNG (M case).\n",
            "Converted mdb171.pgm from PGM to PNG (M case).\n",
            "Converted mdb181.pgm from PGM to PNG (M case).\n",
            "Converted mdb177.pgm from PGM to PNG (N case).\n",
            "Converted mdb176.pgm from PGM to PNG (N case).\n",
            "Converted mdb185.pgm from PGM to PNG (N case).\n",
            "Converted mdb186.pgm from PGM to PNG (M case).\n",
            "Converted mdb189.pgm from PGM to PNG (N case).\n",
            "Converted mdb188.pgm from PGM to PNG (B case).\n",
            "Converted mdb184.pgm from PGM to PNG (M case).\n",
            "Converted mdb183.pgm from PGM to PNG (N case).\n",
            "Converted mdb187.pgm from PGM to PNG (N case).\n",
            "Converted mdb190.pgm from PGM to PNG (B case).\n",
            "Converted mdb191.pgm from PGM to PNG (B case).\n",
            "Converted mdb193.pgm from PGM to PNG (B case).\n",
            "Converted mdb192.pgm from PGM to PNG (N case).\n",
            "Converted mdb199.pgm from PGM to PNG (B case).\n",
            "Converted mdb196.pgm from PGM to PNG (N case).\n",
            "Converted mdb195.pgm from PGM to PNG (B case).\n",
            "Converted mdb194.pgm from PGM to PNG (N case).\n",
            "Converted mdb197.pgm from PGM to PNG (N case).\n",
            "Converted mdb198.pgm from PGM to PNG (B case).\n",
            "Converted mdb204.pgm from PGM to PNG (B case).\n",
            "Converted mdb203.pgm from PGM to PNG (N case).\n",
            "Converted mdb208.pgm from PGM to PNG (N case).\n",
            "Converted mdb205.pgm from PGM to PNG (N case).\n",
            "Converted mdb206.pgm from PGM to PNG (M case).\n",
            "Converted mdb201.pgm from PGM to PNG (N case).\n",
            "Converted mdb207.pgm from PGM to PNG (B case).\n",
            "Converted mdb202.pgm from PGM to PNG (M case).\n",
            "Converted mdb200.pgm from PGM to PNG (N case).\n",
            "Converted mdb210.pgm from PGM to PNG (N case).\n",
            "Converted mdb209.pgm from PGM to PNG (M case).\n",
            "Converted mdb211.pgm from PGM to PNG (M case).\n",
            "Converted mdb213.pgm from PGM to PNG (M case).\n",
            "Converted mdb218.pgm from PGM to PNG (B case).\n",
            "Converted mdb217.pgm from PGM to PNG (N case).\n",
            "Converted mdb219.pgm from PGM to PNG (B case).\n",
            "Converted mdb222.pgm from PGM to PNG (B case).\n",
            "Converted mdb221.pgm from PGM to PNG (N case).\n",
            "Converted mdb220.pgm from PGM to PNG (N case).\n",
            "Converted mdb216.pgm from PGM to PNG (M case).\n",
            "Converted mdb215.pgm from PGM to PNG (N case).\n",
            "Converted mdb212.pgm from PGM to PNG (B case).\n",
            "Converted mdb214.pgm from PGM to PNG (B case).\n",
            "Converted mdb234.pgm from PGM to PNG (N case).\n",
            "Converted mdb232.pgm from PGM to PNG (N case).\n",
            "Converted mdb229.pgm from PGM to PNG (N case).\n",
            "Converted mdb233.pgm from PGM to PNG (M case).\n",
            "Converted mdb227.pgm from PGM to PNG (B case).\n",
            "Converted mdb230.pgm from PGM to PNG (N case).\n",
            "Converted mdb223.pgm from PGM to PNG (B case).\n",
            "Converted mdb231.pgm from PGM to PNG (M case).\n",
            "Converted mdb226.pgm from PGM to PNG (B case).\n",
            "Converted mdb225.pgm from PGM to PNG (N case).\n",
            "Converted mdb228.pgm from PGM to PNG (N case).\n",
            "Converted mdb224.pgm from PGM to PNG (N case).\n",
            "Converted mdb235.pgm from PGM to PNG (N case).\n",
            "Converted mdb246.pgm from PGM to PNG (N case).\n",
            "Converted mdb245.pgm from PGM to PNG (M case).\n",
            "Converted mdb239.pgm from PGM to PNG (M case).\n",
            "Converted mdb236.pgm from PGM to PNG (B case).\n",
            "Converted mdb238.pgm from PGM to PNG (M case).\n",
            "Converted mdb241.pgm from PGM to PNG (M case).\n",
            "Converted mdb243.pgm from PGM to PNG (N case).\n",
            "Converted mdb240.pgm from PGM to PNG (B case).\n",
            "Converted mdb237.pgm from PGM to PNG (N case).\n",
            "Converted mdb242.pgm from PGM to PNG (N case).\n",
            "Converted mdb244.pgm from PGM to PNG (B case).\n",
            "Converted mdb253.pgm from PGM to PNG (M case).\n",
            "Converted mdb252.pgm from PGM to PNG (B case).\n",
            "Converted mdb250.pgm from PGM to PNG (N case).\n",
            "Converted mdb248.pgm from PGM to PNG (B case).\n",
            "Converted mdb249.pgm from PGM to PNG (M case).\n",
            "Converted mdb251.pgm from PGM to PNG (N case).\n",
            "Converted mdb254.pgm from PGM to PNG (N case).\n",
            "Converted mdb257.pgm from PGM to PNG (N case).\n",
            "Converted mdb247.pgm from PGM to PNG (N case).\n",
            "Converted mdb258.pgm from PGM to PNG (N case).\n",
            "Converted mdb255.pgm from PGM to PNG (N case).\n",
            "Converted mdb256.pgm from PGM to PNG (M case).\n",
            "Converted mdb259.pgm from PGM to PNG (N case).\n",
            "Converted mdb260.pgm from PGM to PNG (N case).\n",
            "Converted mdb262.pgm from PGM to PNG (N case).\n",
            "Converted mdb263.pgm from PGM to PNG (N case).\n",
            "Converted mdb268.pgm from PGM to PNG (N case).\n",
            "Converted mdb266.pgm from PGM to PNG (N case).\n",
            "Converted mdb264.pgm from PGM to PNG (M case).\n",
            "Converted mdb267.pgm from PGM to PNG (M case).\n",
            "Converted mdb261.pgm from PGM to PNG (N case).\n",
            "Converted mdb265.pgm from PGM to PNG (M case).\n",
            "Converted mdb273.pgm from PGM to PNG (N case).\n",
            "Converted mdb270.pgm from PGM to PNG (M case).\n",
            "Converted mdb272.pgm from PGM to PNG (N case).\n",
            "Converted mdb269.pgm from PGM to PNG (N case).\n",
            "Converted mdb271.pgm from PGM to PNG (M case).\n",
            "Converted mdb275.pgm from PGM to PNG (N case).\n",
            "Converted mdb274.pgm from PGM to PNG (M case).\n",
            "Converted mdb276.pgm from PGM to PNG (N case).\n",
            "Converted mdb277.pgm from PGM to PNG (N case).\n",
            "Converted mdb285.pgm from PGM to PNG (N case).\n",
            "Converted mdb286.pgm from PGM to PNG (N case).\n",
            "Converted mdb281.pgm from PGM to PNG (N case).\n",
            "Converted mdb284.pgm from PGM to PNG (N case).\n",
            "Converted mdb280.pgm from PGM to PNG (N case).\n",
            "Converted mdb278.pgm from PGM to PNG (N case).\n",
            "Converted mdb283.pgm from PGM to PNG (N case).\n",
            "Converted mdb279.pgm from PGM to PNG (N case).\n",
            "Converted mdb282.pgm from PGM to PNG (N case).\n",
            "Converted mdb287.pgm from PGM to PNG (N case).\n",
            "Converted mdb293.pgm from PGM to PNG (N case).\n",
            "Converted mdb291.pgm from PGM to PNG (N case).\n",
            "Converted mdb290.pgm from PGM to PNG (B case).\n",
            "Converted mdb295.pgm from PGM to PNG (N case).\n",
            "Converted mdb289.pgm from PGM to PNG (N case).\n",
            "Converted mdb288.pgm from PGM to PNG (N case).\n",
            "Converted mdb294.pgm from PGM to PNG (N case).\n",
            "Converted mdb296.pgm from PGM to PNG (N case).\n",
            "Converted mdb292.pgm from PGM to PNG (N case).\n",
            "Converted mdb300.pgm from PGM to PNG (N case).\n",
            "Converted mdb301.pgm from PGM to PNG (N case).\n",
            "Converted mdb298.pgm from PGM to PNG (N case).\n",
            "Converted mdb299.pgm from PGM to PNG (N case).\n",
            "Converted mdb297.pgm from PGM to PNG (N case).\n",
            "Converted mdb311.pgm from PGM to PNG (N case).\n",
            "Converted mdb302.pgm from PGM to PNG (N case).\n",
            "Converted mdb308.pgm from PGM to PNG (N case).\n",
            "Converted mdb305.pgm from PGM to PNG (N case).\n",
            "Converted mdb310.pgm from PGM to PNG (N case).\n",
            "Converted mdb307.pgm from PGM to PNG (N case).\n",
            "Converted mdb303.pgm from PGM to PNG (N case).\n",
            "Converted mdb309.pgm from PGM to PNG (N case).\n",
            "Converted mdb312.pgm from PGM to PNG (B case).\n",
            "Converted mdb304.pgm from PGM to PNG (N case).\n",
            "Converted mdb313.pgm from PGM to PNG (N case).\n",
            "Converted mdb306.pgm from PGM to PNG (N case).\n",
            "Converted mdb319.pgm from PGM to PNG (N case).\n",
            "Converted mdb314.pgm from PGM to PNG (B case).\n",
            "Converted mdb315.pgm from PGM to PNG (B case).\n",
            "Converted mdb316.pgm from PGM to PNG (N case).\n",
            "Converted mdb321.pgm from PGM to PNG (N case).\n",
            "Converted mdb320.pgm from PGM to PNG (N case).\n",
            "Converted mdb318.pgm from PGM to PNG (N case).\n",
            "Converted mdb317.pgm from PGM to PNG (N case).\n",
            "Converted mdb322.pgm from PGM to PNG (N case).\n",
            "Finished converting and sorting dataset.\n"
          ]
        }
      ]
    },
    {
      "cell_type": "code",
      "source": [
        "#Check image size\n",
        "import cv2\n",
        "\n",
        "image=cv2.imread('/content/drive/MyDrive/Colab Notebooks/dataset/mini-MIAS/data/malignant_cases/malign5.png')\n",
        "print(image.shape)"
      ],
      "metadata": {
        "colab": {
          "base_uri": "https://localhost:8080/"
        },
        "id": "oAjABehvoF7o",
        "outputId": "10bb7355-ecf0-4337-d746-f30f1711fce4"
      },
      "execution_count": null,
      "outputs": [
        {
          "output_type": "stream",
          "name": "stdout",
          "text": [
            "(1024, 1024, 3)\n"
          ]
        }
      ]
    },
    {
      "cell_type": "code",
      "source": [
        "#Check my segment code is properly work or not \n",
        "import cv2\n",
        "\n",
        "image_8 = cv2.imread('/content/drive/MyDrive/Colab Notebooks/dataset/mini-MIAS/data/malignant_cases/malign0.png')\n",
        "print(image_8.shape)\n",
        "image_rgb=segement_images(image_8)\n",
        "#Showing image using imshow() using matplotlib\n",
        "plt.imshow(image_rgb, cmap = 'gray'), plt.axis('off')\n",
        "plt.show()"
      ],
      "metadata": {
        "colab": {
          "base_uri": "https://localhost:8080/",
          "height": 265
        },
        "id": "mSEfN1dZkVdw",
        "outputId": "0384a297-13fa-45b5-fe4c-1a2c7e0d282a"
      },
      "execution_count": null,
      "outputs": [
        {
          "output_type": "stream",
          "name": "stdout",
          "text": [
            "(1024, 1024, 3)\n"
          ]
        },
        {
          "output_type": "display_data",
          "data": {
            "text/plain": [
              "<Figure size 432x288 with 1 Axes>"
            ],
            "image/png": "[encoded data removed]"
          },
          "metadata": {
            "needs_background": "light"
          }
        }
      ]
    },
    {
      "cell_type": "code",
      "source": [
        "image_directory = '/content/drive/MyDrive/Colab Notebooks/dataset/mini-MIAS/data/'\n",
        "SIZE = 256\n",
        "dataset = []  #Many ways to handle data, you can use pandas. Here, we are using a list format.  \n",
        "label = []  #Place holders to define add labels. We will add 0 to all infected images and 1 to uninfected images."
      ],
      "metadata": {
        "id": "ZznFHbfZljYS"
      },
      "execution_count": null,
      "outputs": []
    },
    {
      "cell_type": "code",
      "metadata": {
        "id": "0vLCvsxBaLCq"
      },
      "source": [
        "#Iterate through all images in benign_cases folder, resize to 256 x 256\n",
        "#Then save into the same numpy array 'dataset' but with label 0\n",
        "uninfected_images = os.listdir(image_directory + 'benign_cases/')\n",
        "for i, image_name in enumerate(uninfected_images):    #Remember enumerate method adds a counter and returns the enumerate object\n",
        "    if (image_name.split('.')[1] == 'png'):\n",
        "        image = cv2.imread(image_directory + 'benign_cases/' + image_name)\n",
        "        image = Image.fromarray(image, 'RGB')\n",
        "        image = image.resize((SIZE, SIZE))\n",
        "        dataset.append(np.array(image))\n",
        "        label.append(1)\n",
        "\n",
        "#Iterate through all images in Malignat_cases folder, resize to 256 x 256\n",
        "#Then save into the same numpy array 'dataset' but with label 1\n",
        "\n",
        "infected_images = os.listdir(image_directory + 'malignant_cases/')\n",
        "for i, image_name in enumerate(infected_images):\n",
        "    if (image_name.split('.')[1] == 'png'):\n",
        "        image = cv2.imread(image_directory + 'malignant_cases/' + image_name)\n",
        "        image = Image.fromarray(image, 'RGB')\n",
        "        image = image.resize((SIZE, SIZE))\n",
        "        dataset.append(np.array(image))\n",
        "        label.append(0)\n",
        "\n",
        "dataset = np.array(dataset)\n",
        "label = np.array(label)"
      ],
      "execution_count": null,
      "outputs": []
    },
    {
      "cell_type": "code",
      "metadata": {
        "id": "-U7zarURbCnZ",
        "colab": {
          "base_uri": "https://localhost:8080/"
        },
        "outputId": "b4b783b5-b30e-4e45-b518-dc46ea117bb2"
      },
      "source": [
        "print(dataset.shape)\n",
        "print(label.shape)"
      ],
      "execution_count": null,
      "outputs": [
        {
          "output_type": "stream",
          "name": "stdout",
          "text": [
            "(315, 256, 256, 3)\n",
            "(315,)\n"
          ]
        }
      ]
    },
    {
      "cell_type": "code",
      "source": [
        "#Sanity check, view few mages\n",
        "import random\n",
        "import numpy as np\n",
        "image_number = random.randint(0, len(dataset)-1)\n",
        "plt.imshow((dataset[image_number]))\n",
        "print(\"Label for this image is: \", label[image_number])"
      ],
      "metadata": {
        "colab": {
          "base_uri": "https://localhost:8080/",
          "height": 286
        },
        "id": "QMPuMH1--pm4",
        "outputId": "de0f5922-11de-4554-9c4e-9c2c52ad7b90"
      },
      "execution_count": null,
      "outputs": [
        {
          "output_type": "stream",
          "name": "stdout",
          "text": [
            "Label for this image is:  1\n"
          ]
        },
        {
          "output_type": "display_data",
          "data": {
            "text/plain": [
              "<Figure size 432x288 with 1 Axes>"
            ],
            "image/png": "[encoded data removed]"
          },
          "metadata": {
            "needs_background": "light"
          }
        }
      ]
    },
    {
      "cell_type": "code",
      "metadata": {
        "id": "mOoLEqqxaNy5"
      },
      "source": [
        "from sklearn.model_selection import train_test_split\n",
        "#from keras.utils import to_categorical\n",
        "\n",
        "X_train, X_test, y_train, y_test = train_test_split(dataset, label, test_size = 0.20, random_state = 0)\n"
      ],
      "execution_count": null,
      "outputs": []
    },
    {
      "cell_type": "code",
      "metadata": {
        "id": "8FDQt4yzaQLf"
      },
      "source": [
        "#from keras.utils import normalize\n",
        "#X_train = normalize(X_train, axis=1)\n",
        "#X_test = normalize(X_test, axis=1)\n",
        "X_train = X_train / 255.\n",
        "X_test = X_test / 255. "
      ],
      "execution_count": null,
      "outputs": []
    },
    {
      "cell_type": "code",
      "source": [
        "#Define our model\n",
        "###2 conv and pool layers. with some normalization and drops in between.\n",
        "\n",
        "INPUT_SHAPE = (SIZE, SIZE, 3)   #change to (SIZE, SIZE, 3)\n",
        "\n",
        "model = Sequential()\n",
        "\n",
        "model.add(Conv2D(32, (3, 3), input_shape=INPUT_SHAPE))\n",
        "model.add(Activation('relu'))\n",
        "model.add(MaxPooling2D(pool_size=(2, 2)))\n",
        "\n",
        "model.add(Conv2D(32, (3, 3), kernel_initializer = 'he_uniform'))\n",
        "model.add(Activation('relu'))\n",
        "model.add(MaxPooling2D(pool_size=(2, 2)))\n",
        "\n",
        "model.add(Conv2D(64, (3, 3), kernel_initializer = 'he_uniform'))\n",
        "model.add(Activation('relu'))\n",
        "model.add(MaxPooling2D(pool_size=(2, 2)))\n",
        "\n",
        "model.add(Flatten())\n",
        "\n",
        "model.add(Dense(64))\n",
        "model.add(Activation('relu'))\n",
        "model.add(Dropout(0.5))\n",
        "\n",
        "model.add(Dense(1))\n",
        "model.add(Activation('sigmoid'))  \n",
        "\n",
        "#Save the model\n",
        "model.save('/content/drive/MyDrive/Colab Notebooks/dataset/breastCancer.h5')\n",
        "\n",
        "#Do not use softmax for binary classification\n",
        "#Softmax is useful for mutually exclusive classes, either cat or dog but not both.\n",
        "#Also, softmax outputs all add to 1. So good for multi class problems where each\n",
        "#class is given a probability and all add to 1. Highest one wins. \n",
        "\n",
        "#Sigmoid outputs probability. Can be used for non-mutually exclusive problems.\n",
        "#But, also good for binary mutually exclusive (cat or not cat)."
      ],
      "metadata": {
        "colab": {
          "base_uri": "https://localhost:8080/"
        },
        "id": "Q0gY2Crk_MxZ",
        "outputId": "13bd6111-9f3c-42f5-ce04-479623483ba3"
      },
      "execution_count": null,
      "outputs": [
        {
          "output_type": "stream",
          "name": "stderr",
          "text": [
            "WARNING:tensorflow:Compiled the loaded model, but the compiled metrics have yet to be built. `model.compile_metrics` will be empty until you train or evaluate the model.\n"
          ]
        }
      ]
    },
    {
      "cell_type": "code",
      "source": [
        "model.compile(loss='binary_crossentropy',\n",
        "              optimizer='rmsprop',             #also try adam\n",
        "              metrics=['accuracy'])\n",
        "\n",
        "print(model.summary())   "
      ],
      "metadata": {
        "colab": {
          "base_uri": "https://localhost:8080/"
        },
        "id": "pXqhoyKJ_WFW",
        "outputId": "5e1d3c36-b3e7-4c04-cfd0-13d237aa05ce"
      },
      "execution_count": null,
      "outputs": [
        {
          "output_type": "stream",
          "name": "stdout",
          "text": [
            "Model: \"sequential\"\n",
            "_________________________________________________________________\n",
            " Layer (type)                Output Shape              Param #   \n",
            "=================================================================\n",
            " conv2d (Conv2D)             (None, 254, 254, 32)      896       \n",
            "                                                                 \n",
            " activation (Activation)     (None, 254, 254, 32)      0         \n",
            "                                                                 \n",
            " max_pooling2d (MaxPooling2D  (None, 127, 127, 32)     0         \n",
            " )                                                               \n",
            "                                                                 \n",
            " conv2d_1 (Conv2D)           (None, 125, 125, 32)      9248      \n",
            "                                                                 \n",
            " activation_1 (Activation)   (None, 125, 125, 32)      0         \n",
            "                                                                 \n",
            " max_pooling2d_1 (MaxPooling  (None, 62, 62, 32)       0         \n",
            " 2D)                                                             \n",
            "                                                                 \n",
            " conv2d_2 (Conv2D)           (None, 60, 60, 64)        18496     \n",
            "                                                                 \n",
            " activation_2 (Activation)   (None, 60, 60, 64)        0         \n",
            "                                                                 \n",
            " max_pooling2d_2 (MaxPooling  (None, 30, 30, 64)       0         \n",
            " 2D)                                                             \n",
            "                                                                 \n",
            " flatten (Flatten)           (None, 57600)             0         \n",
            "                                                                 \n",
            " dense (Dense)               (None, 64)                3686464   \n",
            "                                                                 \n",
            " activation_3 (Activation)   (None, 64)                0         \n",
            "                                                                 \n",
            " dropout (Dropout)           (None, 64)                0         \n",
            "                                                                 \n",
            " dense_1 (Dense)             (None, 1)                 65        \n",
            "                                                                 \n",
            " activation_4 (Activation)   (None, 1)                 0         \n",
            "                                                                 \n",
            "=================================================================\n",
            "Total params: 3,715,169\n",
            "Trainable params: 3,715,169\n",
            "Non-trainable params: 0\n",
            "_________________________________________________________________\n",
            "None\n"
          ]
        }
      ]
    },
    {
      "cell_type": "code",
      "source": [
        "history = model.fit(X_train, \n",
        "                         y_train, \n",
        "                         batch_size = 64, \n",
        "                         verbose = 1, \n",
        "                         epochs = 30,      \n",
        "                         validation_data=(X_test,y_test),\n",
        "                         shuffle = False\n",
        "                     )"
      ],
      "metadata": {
        "colab": {
          "base_uri": "https://localhost:8080/"
        },
        "id": "pGuqopD1ACw5",
        "outputId": "832de161-91a9-4446-b640-0cb0e9cadb50"
      },
      "execution_count": null,
      "outputs": [
        {
          "output_type": "stream",
          "name": "stdout",
          "text": [
            "Epoch 1/30\n",
            "4/4 [==============================] - 31s 6s/step - loss: 2.3518 - accuracy: 0.5794 - val_loss: 0.2229 - val_accuracy: 0.9206\n",
            "Epoch 2/30\n",
            "4/4 [==============================] - 24s 6s/step - loss: 0.2468 - accuracy: 0.9127 - val_loss: 0.6628 - val_accuracy: 0.8095\n",
            "Epoch 3/30\n",
            "4/4 [==============================] - 22s 6s/step - loss: 0.1568 - accuracy: 0.9325 - val_loss: 0.0267 - val_accuracy: 1.0000\n",
            "Epoch 4/30\n",
            "4/4 [==============================] - 22s 5s/step - loss: 0.0164 - accuracy: 1.0000 - val_loss: 0.0066 - val_accuracy: 1.0000\n",
            "Epoch 5/30\n",
            "4/4 [==============================] - 22s 5s/step - loss: 0.0093 - accuracy: 1.0000 - val_loss: 0.0034 - val_accuracy: 1.0000\n",
            "Epoch 6/30\n",
            "4/4 [==============================] - 22s 5s/step - loss: 0.0037 - accuracy: 1.0000 - val_loss: 0.0024 - val_accuracy: 1.0000\n",
            "Epoch 7/30\n",
            "4/4 [==============================] - 22s 5s/step - loss: 0.0018 - accuracy: 1.0000 - val_loss: 0.0016 - val_accuracy: 1.0000\n",
            "Epoch 8/30\n",
            "4/4 [==============================] - 22s 5s/step - loss: 0.0021 - accuracy: 1.0000 - val_loss: 0.0012 - val_accuracy: 1.0000\n",
            "Epoch 9/30\n",
            "4/4 [==============================] - 21s 5s/step - loss: 0.0014 - accuracy: 1.0000 - val_loss: 9.2798e-04 - val_accuracy: 1.0000\n",
            "Epoch 10/30\n",
            "4/4 [==============================] - 22s 5s/step - loss: 4.3371e-04 - accuracy: 1.0000 - val_loss: 5.8179e-04 - val_accuracy: 1.0000\n",
            "Epoch 11/30\n",
            "4/4 [==============================] - 22s 5s/step - loss: 0.0035 - accuracy: 1.0000 - val_loss: 0.0020 - val_accuracy: 1.0000\n",
            "Epoch 12/30\n",
            "4/4 [==============================] - 24s 5s/step - loss: 5.9783e-04 - accuracy: 1.0000 - val_loss: 3.3460e-04 - val_accuracy: 1.0000\n",
            "Epoch 13/30\n",
            "4/4 [==============================] - 22s 5s/step - loss: 5.6084e-04 - accuracy: 1.0000 - val_loss: 1.0168e-04 - val_accuracy: 1.0000\n",
            "Epoch 14/30\n",
            "4/4 [==============================] - 21s 5s/step - loss: 7.9097e-04 - accuracy: 1.0000 - val_loss: 6.5988e-05 - val_accuracy: 1.0000\n",
            "Epoch 15/30\n",
            "4/4 [==============================] - 22s 5s/step - loss: 2.2025e-04 - accuracy: 1.0000 - val_loss: 4.7991e-05 - val_accuracy: 1.0000\n",
            "Epoch 16/30\n",
            "4/4 [==============================] - 22s 5s/step - loss: 1.4887e-04 - accuracy: 1.0000 - val_loss: 2.3907e-05 - val_accuracy: 1.0000\n",
            "Epoch 17/30\n",
            "4/4 [==============================] - 22s 5s/step - loss: 1.8009e-04 - accuracy: 1.0000 - val_loss: 1.9969e-05 - val_accuracy: 1.0000\n",
            "Epoch 18/30\n",
            "4/4 [==============================] - 22s 5s/step - loss: 1.7806e-04 - accuracy: 1.0000 - val_loss: 2.9226e-05 - val_accuracy: 1.0000\n",
            "Epoch 19/30\n",
            "4/4 [==============================] - 21s 5s/step - loss: 3.5155e-04 - accuracy: 1.0000 - val_loss: 6.8151e-06 - val_accuracy: 1.0000\n",
            "Epoch 20/30\n",
            "4/4 [==============================] - 21s 5s/step - loss: 3.0320e-05 - accuracy: 1.0000 - val_loss: 5.0305e-06 - val_accuracy: 1.0000\n",
            "Epoch 21/30\n",
            "4/4 [==============================] - 24s 6s/step - loss: 2.0686e-04 - accuracy: 1.0000 - val_loss: 2.1737e-05 - val_accuracy: 1.0000\n",
            "Epoch 22/30\n",
            "4/4 [==============================] - 21s 5s/step - loss: 2.9917e-05 - accuracy: 1.0000 - val_loss: 1.0531e-05 - val_accuracy: 1.0000\n",
            "Epoch 23/30\n",
            "4/4 [==============================] - 21s 5s/step - loss: 3.5293e-05 - accuracy: 1.0000 - val_loss: 3.9638e-06 - val_accuracy: 1.0000\n",
            "Epoch 24/30\n",
            "4/4 [==============================] - 21s 5s/step - loss: 6.0662e-04 - accuracy: 1.0000 - val_loss: 0.1802 - val_accuracy: 0.9524\n",
            "Epoch 25/30\n",
            "4/4 [==============================] - 21s 5s/step - loss: 5.2567 - accuracy: 0.7540 - val_loss: 0.0242 - val_accuracy: 0.9841\n",
            "Epoch 26/30\n",
            "4/4 [==============================] - 21s 5s/step - loss: 0.0061 - accuracy: 1.0000 - val_loss: 0.0093 - val_accuracy: 1.0000\n",
            "Epoch 27/30\n",
            "4/4 [==============================] - 22s 5s/step - loss: 0.0019 - accuracy: 1.0000 - val_loss: 0.0050 - val_accuracy: 1.0000\n",
            "Epoch 28/30\n",
            "4/4 [==============================] - 22s 5s/step - loss: 0.0018 - accuracy: 1.0000 - val_loss: 0.0033 - val_accuracy: 1.0000\n",
            "Epoch 29/30\n",
            "4/4 [==============================] - 21s 5s/step - loss: 0.0022 - accuracy: 1.0000 - val_loss: 0.0018 - val_accuracy: 1.0000\n",
            "Epoch 30/30\n",
            "4/4 [==============================] - 22s 6s/step - loss: 0.0014 - accuracy: 1.0000 - val_loss: 0.0010 - val_accuracy: 1.0000\n"
          ]
        }
      ]
    },
    {
      "cell_type": "code",
      "source": [
        "#plot the training and validation accuracy and loss at each epoch\n",
        "loss = history.history['loss']\n",
        "val_loss = history.history['val_loss']\n",
        "epochs = range(1, len(loss) + 1)\n",
        "plt.plot(epochs, loss, 'y', label='Training loss')\n",
        "plt.plot(epochs, val_loss, 'r', label='Validation loss')\n",
        "plt.title('Training and validation loss')\n",
        "plt.xlabel('Epochs')\n",
        "plt.ylabel('Loss')\n",
        "plt.legend()\n",
        "plt.show()\n",
        "\n",
        "\n",
        "acc = history.history['accuracy']\n",
        "val_acc = history.history['val_accuracy']\n",
        "plt.plot(epochs, acc, 'y', label='Training acc')\n",
        "plt.plot(epochs, val_acc, 'r', label='Validation acc')\n",
        "plt.title('Training and validation accuracy')\n",
        "plt.xlabel('Epochs')\n",
        "plt.ylabel('Accuracy')\n",
        "plt.legend()\n",
        "plt.show()"
      ],
      "metadata": {
        "colab": {
          "base_uri": "https://localhost:8080/",
          "height": 573
        },
        "id": "UQ3-65qwDbEU",
        "outputId": "52c378d3-e105-4958-ca19-2aeb51d7497d"
      },
      "execution_count": null,
      "outputs": [
        {
          "output_type": "display_data",
          "data": {
            "text/plain": [
              "<Figure size 432x288 with 1 Axes>"
            ],
            "image/png": "[encoded data removed]"
          },
          "metadata": {
            "needs_background": "light"
          }
        },
        {
          "output_type": "display_data",
          "data": {
            "text/plain": [
              "<Figure size 432x288 with 1 Axes>"
            ],
            "image/png": "[encoded data removed]"
          },
          "metadata": {
            "needs_background": "light"
          }
        }
      ]
    },
    {
      "cell_type": "code",
      "source": [
        "#Test the model on single images \n",
        "n = random.randint(0, len(X_test)-1)\n",
        "img = X_test[n]\n",
        "plt.imshow(img)\n",
        "\n",
        "input_img = np.expand_dims(img, axis=0) #Expand dims so the input is (num images, x, y, c)\n",
        "print(\"The prediction for this image is: \", model.predict(input_img))\n",
        "print(\"The actual label for this image is: \", y_test[n])\n",
        "if y_test[n] == 1:\n",
        "  print('Benign')\n",
        "else:\n",
        "  print('Malignant')  "
      ],
      "metadata": {
        "colab": {
          "base_uri": "https://localhost:8080/",
          "height": 338
        },
        "id": "YUMrvzCCDrah",
        "outputId": "d3763853-8dcc-49f4-e91c-479da6f05583"
      },
      "execution_count": null,
      "outputs": [
        {
          "output_type": "stream",
          "name": "stdout",
          "text": [
            "1/1 [==============================] - 1s 505ms/step\n",
            "The prediction for this image is:  [[0.99999726]]\n",
            "The actual label for this image is:  1\n",
            "Benign\n"
          ]
        },
        {
          "output_type": "display_data",
          "data": {
            "text/plain": [
              "<Figure size 432x288 with 1 Axes>"
            ],
            "image/png": "[encoded data removed]"
          },
          "metadata": {
            "needs_background": "light"
          }
        }
      ]
    },
    {
      "cell_type": "code",
      "source": [
        "# Check External Images\n",
        "import numpy as np\n",
        "from tensorflow.keras.preprocessing import image\n",
        "\n",
        "#Benign directory\n",
        "# image_directory='/content/drive/MyDrive/Colab Notebooks/dataset/mini-MIAS/data/benign_cases/benign100.png'\n",
        "\n",
        "#malignant directory\n",
        "image_directory='/content/drive/MyDrive/Colab Notebooks/dataset/mini-MIAS/data/malignant_cases/malign100.png'\n",
        "test=cv2.imread(image_directory)\n",
        "test_image = image.load_img(image_directory, target_size = (256,256))\n",
        "test_image = image.img_to_array(test_image)\n",
        "#test_image=test_image/255\n",
        "test_image = np.expand_dims(test_image, axis = 0)\n",
        "result = (model.predict(test_image))\n",
        "\n",
        "seg=segement_images(test)\n",
        "\n",
        "# Plot results\n",
        "fig, (ax1, ax2) = plt.subplots(1, 2, figsize=(10, 8),\n",
        "                                    sharex=True, sharey=True)\n",
        "ax1.imshow(test, cmap='gray')\n",
        "ax1.axis('off')\n",
        "ax1.set_title('External Image')\n",
        "ax2.imshow(seg, cmap='gray')\n",
        "ax2.axis('off')\n",
        "ax2.set_title('Prediction on External Image')\n",
        " \n",
        "print(int(result[0][0]))\n",
        "if int(result[0][0]) == 0:\n",
        "    print(\"The image classified is malign\")\n",
        "else:\n",
        "    print(\"The image classified is benign\")"
      ],
      "metadata": {
        "colab": {
          "base_uri": "https://localhost:8080/",
          "height": 353
        },
        "id": "ohdviZhdD8Fp",
        "outputId": "5e48493d-5b6e-4e37-ccd9-cb0992612113"
      },
      "execution_count": null,
      "outputs": [
        {
          "output_type": "stream",
          "name": "stdout",
          "text": [
            "1/1 [==============================] - 0s 46ms/step\n",
            "0\n",
            "The image classified is malign\n"
          ]
        },
        {
          "output_type": "display_data",
          "data": {
            "text/plain": [
              "<Figure size 720x576 with 2 Axes>"
            ],
            "image/png": "[encoded data removed]"
          },
          "metadata": {
            "needs_background": "light"
          }
        }
      ]
    },
    {
      "cell_type": "code",
      "source": [
        "#for accuracy\n",
        "################################################################\n",
        "\n",
        "_, acc = model.evaluate(X_test, y_test)\n",
        "print(\"Accuracy = \", (acc * 100.0), \"%\")"
      ],
      "metadata": {
        "colab": {
          "base_uri": "https://localhost:8080/"
        },
        "id": "DTSWu6pxEyRW",
        "outputId": "781aa2f6-4851-4312-adc3-7f5c0f824e16"
      },
      "execution_count": null,
      "outputs": [
        {
          "output_type": "stream",
          "name": "stdout",
          "text": [
            "2/2 [==============================] - 2s 680ms/step - loss: 0.0010 - accuracy: 1.0000\n",
            "Accuracy =  100.0 %\n"
          ]
        }
      ]
    },
    {
      "cell_type": "code",
      "source": [
        "#How do we know how it is doing for parasitized vs uninfected? \n",
        "################################################################\n",
        "\n",
        "#Confusion matrix\n",
        "#We compare labels and plot them based on correct or wrong predictions.\n",
        "#Since sigmoid outputs probabilities we need to apply threshold to convert to label.\n",
        "\n",
        "mythreshold=1\n",
        "from sklearn.metrics import confusion_matrix\n",
        "import seaborn as sns\n",
        "\n",
        "y_pred = (model.predict(X_test)>= mythreshold).astype(int)\n",
        "cm=confusion_matrix(y_test, y_pred)  \n",
        "sns.heatmap(cm, annot=True)\n",
        "\n",
        "#Check the confusion matrix for various thresholds. Which one is good?\n",
        "#Need to balance positive, negative, false positive and false negative. "
      ],
      "metadata": {
        "colab": {
          "base_uri": "https://localhost:8080/",
          "height": 304
        },
        "id": "g6ZE3XlAFAtL",
        "outputId": "61ce358a-5f6d-49d8-af47-90c3a144c925"
      },
      "execution_count": null,
      "outputs": [
        {
          "output_type": "stream",
          "name": "stdout",
          "text": [
            "2/2 [==============================] - 1s 667ms/step\n"
          ]
        },
        {
          "output_type": "execute_result",
          "data": {
            "text/plain": [
              "<matplotlib.axes._subplots.AxesSubplot at 0x7f6519616790>"
            ]
          },
          "metadata": {},
          "execution_count": 44
        },
        {
          "output_type": "display_data",
          "data": {
            "text/plain": [
              "<Figure size 432x288 with 2 Axes>"
            ],
            "image/png": "[encoded data removed]"
          },
          "metadata": {
            "needs_background": "light"
          }
        }
      ]
    },
    {
      "cell_type": "code",
      "source": [
        "#ROC can help identify the right threshold.\n",
        "#Refer to video 106 for explanation of ROC curves. \n",
        "##################################################################\n",
        "\"\"\"\n",
        "Receiver Operating Characteristic (ROC) Curve is a plot that helps us \n",
        "visualize the performance of a binary classifier when the threshold is varied. \n",
        "\"\"\"\n",
        "#ROC\n",
        "from sklearn.metrics import roc_curve\n",
        "y_preds = model.predict(X_test).ravel()\n",
        "\n",
        "fpr, tpr, thresholds = roc_curve(y_test, y_preds)\n",
        "plt.figure(1)\n",
        "plt.plot([0, 1], [0, 1], 'y--')\n",
        "plt.plot(fpr, tpr, marker='.')\n",
        "plt.xlabel('False positive rate')\n",
        "plt.ylabel('True positive rate')\n",
        "plt.title('ROC curve')\n",
        "plt.show()"
      ],
      "metadata": {
        "colab": {
          "base_uri": "https://localhost:8080/",
          "height": 312
        },
        "id": "jrv4UN7HFNKV",
        "outputId": "f306fcab-88a3-4e5f-c5e2-c9a4cb1b4741"
      },
      "execution_count": null,
      "outputs": [
        {
          "output_type": "stream",
          "name": "stdout",
          "text": [
            "2/2 [==============================] - 3s 1s/step\n"
          ]
        },
        {
          "output_type": "display_data",
          "data": {
            "text/plain": [
              "<Figure size 432x288 with 1 Axes>"
            ],
            "image/png": "[encoded data removed]"
          },
          "metadata": {
            "needs_background": "light"
          }
        }
      ]
    },
    {
      "cell_type": "code",
      "source": [
        "\"\"\"\n",
        "#One way to find the best threshold once we calculate the true positive \n",
        "and false positive rates is ...\n",
        "The optimal cut off point would be where “true positive rate” is high \n",
        "and the “false positive rate” is low. \n",
        "Based on this logic let us find the threshold where tpr-(1-fpr) is zero (or close to 0)\n",
        "\"\"\"\n",
        "import pandas as pd\n",
        "i = np.arange(len(tpr)) \n",
        "roc = pd.DataFrame({'tf' : pd.Series(tpr-(1-fpr), index=i), 'thresholds' : pd.Series(thresholds, index=i)})\n",
        "ideal_roc_thresh = roc.iloc[(roc.tf-0).abs().argsort()[:1]]  #Locate the point where the value is close to 0\n",
        "print(\"Ideal threshold is: \", ideal_roc_thresh['thresholds']) \n"
      ],
      "metadata": {
        "id": "g96UNrzaFkL6",
        "outputId": "6a441a58-39ff-48d6-aea8-5389e49c7e23",
        "colab": {
          "base_uri": "https://localhost:8080/"
        }
      },
      "execution_count": null,
      "outputs": [
        {
          "output_type": "stream",
          "name": "stdout",
          "text": [
            "Ideal threshold is:  10    0.998342\n",
            "Name: thresholds, dtype: float32\n"
          ]
        }
      ]
    }
  ]
}